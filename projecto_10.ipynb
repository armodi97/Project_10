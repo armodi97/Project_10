{
 "cells": [
  {
   "cell_type": "code",
   "execution_count": 32,
   "metadata": {},
   "outputs": [],
   "source": [
    "import pandas as pd\n",
    "import numpy as np"
   ]
  },
  {
   "cell_type": "markdown",
   "metadata": {},
   "source": [
    "## 1.1\n",
    "\n",
    "Importación de archivos"
   ]
  },
  {
   "cell_type": "code",
   "execution_count": 15,
   "metadata": {},
   "outputs": [],
   "source": [
    "\n",
    "data_train = pd.read_csv(\"https://practicum-content.s3.us-west-1.amazonaws.com/datasets/gold_recovery_train.csv\")\n",
    "data_test = pd.read_csv(\"https://practicum-content.s3.us-west-1.amazonaws.com/datasets/gold_recovery_test.csv\")\n",
    "data_full = pd.read_csv(\"https://practicum-content.s3.us-west-1.amazonaws.com/datasets/gold_recovery_full.csv\")"
   ]
  },
  {
   "cell_type": "markdown",
   "metadata": {},
   "source": [
    "## 1.2\n",
    "\n",
    "Comprueba que el calculo de recuperación sea correcto"
   ]
  },
  {
   "cell_type": "code",
   "execution_count": null,
   "metadata": {},
   "outputs": [
    {
     "name": "stdout",
     "output_type": "stream",
     "text": [
      "Error absoluto medio del cálculo de recuperación: 9.303415616264301e-15\n"
     ]
    }
   ],
   "source": [
    "#Columna con calculo de recuperación: data_train[\"rougher.output.recovery\"]\n",
    "\n",
    "# Función que calcula el % de recuperación\n",
    "def recovery(df):\n",
    "    c = df[\"rougher.output.concentrate_au\"]\n",
    "    f = df[\"rougher.input.feed_au\"]\n",
    "    t = df[\"rougher.output.tail_au\"]\n",
    "    try:\n",
    "        result = ((c*(f-t))/(f*(c-t)))*100\n",
    "    except:\n",
    "        result = 0\n",
    "    return result\n",
    "\n",
    "recovery_calc = data_train.apply(lambda x: recovery(x), axis = 1)\n",
    "\n",
    "print(\"Error absoluto medio del cálculo de recuperación:\", (recovery_calc - data_train[\"rougher.output.recovery\"]).abs().mean())"
   ]
  },
  {
   "cell_type": "markdown",
   "metadata": {},
   "source": [
    "Al tener un error absoluto medio tan bajo, podemos afirmar que los calculos han sido correctos hasta el momento"
   ]
  },
  {
   "cell_type": "markdown",
   "metadata": {},
   "source": [
    "## 1.3\n",
    "\n",
    "Analiza las características no disponibles del conjunto de prueba"
   ]
  },
  {
   "cell_type": "code",
   "execution_count": 22,
   "metadata": {},
   "outputs": [
    {
     "data": {
      "text/plain": [
       "{'final.output.concentrate_ag',\n",
       " 'final.output.concentrate_au',\n",
       " 'final.output.concentrate_pb',\n",
       " 'final.output.concentrate_sol',\n",
       " 'final.output.recovery',\n",
       " 'final.output.tail_ag',\n",
       " 'final.output.tail_au',\n",
       " 'final.output.tail_pb',\n",
       " 'final.output.tail_sol',\n",
       " 'primary_cleaner.output.concentrate_ag',\n",
       " 'primary_cleaner.output.concentrate_au',\n",
       " 'primary_cleaner.output.concentrate_pb',\n",
       " 'primary_cleaner.output.concentrate_sol',\n",
       " 'primary_cleaner.output.tail_ag',\n",
       " 'primary_cleaner.output.tail_au',\n",
       " 'primary_cleaner.output.tail_pb',\n",
       " 'primary_cleaner.output.tail_sol',\n",
       " 'rougher.calculation.au_pb_ratio',\n",
       " 'rougher.calculation.floatbank10_sulfate_to_au_feed',\n",
       " 'rougher.calculation.floatbank11_sulfate_to_au_feed',\n",
       " 'rougher.calculation.sulfate_to_au_concentrate',\n",
       " 'rougher.output.concentrate_ag',\n",
       " 'rougher.output.concentrate_au',\n",
       " 'rougher.output.concentrate_pb',\n",
       " 'rougher.output.concentrate_sol',\n",
       " 'rougher.output.recovery',\n",
       " 'rougher.output.tail_ag',\n",
       " 'rougher.output.tail_au',\n",
       " 'rougher.output.tail_pb',\n",
       " 'rougher.output.tail_sol',\n",
       " 'secondary_cleaner.output.tail_ag',\n",
       " 'secondary_cleaner.output.tail_au',\n",
       " 'secondary_cleaner.output.tail_pb',\n",
       " 'secondary_cleaner.output.tail_sol'}"
      ]
     },
     "execution_count": 22,
     "metadata": {},
     "output_type": "execute_result"
    }
   ],
   "source": [
    "not_in_test = set(data_train.columns) - set(data_test.columns)\n",
    "not_in_test"
   ]
  },
  {
   "cell_type": "markdown",
   "metadata": {},
   "source": [
    "Podemos observar que las columnas que no se encuentran en el conjunto de prueba son columnas tipo \"output\", valores que se obtienes después del procesado del material, es decir, valores futuros."
   ]
  },
  {
   "cell_type": "markdown",
   "metadata": {},
   "source": [
    "## 1.4\n",
    "\n",
    "Preprocesamiento de datos"
   ]
  },
  {
   "cell_type": "markdown",
   "metadata": {},
   "source": [
    "Para poder hacer un preprocesamiento adecuado, debemos tomar en cuenta 2 puntos importantes, el primero es que los datos cercanos en el tiempo suelen ser similares, y el segundo es que contamos con parámetros de fecha y hora  para poder definir datos cercanos."
   ]
  },
  {
   "cell_type": "markdown",
   "metadata": {},
   "source": [
    " Buscamos la desviación estandar de 3 muestras de cada columna para corroborar que los datos realmente se acercan entre sí en fechas cercanas, los datos en los df están ordenados por fecha y hora de registro"
   ]
  },
  {
   "cell_type": "code",
   "execution_count": 91,
   "metadata": {},
   "outputs": [
    {
     "name": "stdout",
     "output_type": "stream",
     "text": [
      "final.output.concentrate_ag                   0.322104\n",
      "final.output.concentrate_pb                   0.337991\n",
      "final.output.concentrate_sol                  0.154296\n",
      "final.output.concentrate_au                   0.875786\n",
      "final.output.recovery                         1.082308\n",
      "                                                ...   \n",
      "secondary_cleaner.state.floatbank5_a_level    0.563166\n",
      "secondary_cleaner.state.floatbank5_b_air      0.686520\n",
      "secondary_cleaner.state.floatbank5_b_level    0.212719\n",
      "secondary_cleaner.state.floatbank6_a_air      0.021292\n",
      "secondary_cleaner.state.floatbank6_a_level    0.342612\n",
      "Length: 86, dtype: float64\n",
      "final.output.concentrate_ag                    0.947617\n",
      "final.output.concentrate_pb                    0.400052\n",
      "final.output.concentrate_sol                   0.441388\n",
      "final.output.concentrate_au                    3.075237\n",
      "final.output.recovery                         12.500623\n",
      "                                                ...    \n",
      "secondary_cleaner.state.floatbank5_a_level     0.501829\n",
      "secondary_cleaner.state.floatbank5_b_air       0.030592\n",
      "secondary_cleaner.state.floatbank5_b_level     0.116213\n",
      "secondary_cleaner.state.floatbank6_a_air       0.012543\n",
      "secondary_cleaner.state.floatbank6_a_level     0.463713\n",
      "Length: 86, dtype: float64\n",
      "final.output.concentrate_ag                   0.176743\n",
      "final.output.concentrate_pb                   1.215748\n",
      "final.output.concentrate_sol                  0.353350\n",
      "final.output.concentrate_au                   1.425004\n",
      "final.output.recovery                         3.451760\n",
      "                                                ...   \n",
      "secondary_cleaner.state.floatbank5_a_level    1.025935\n",
      "secondary_cleaner.state.floatbank5_b_air      0.031889\n",
      "secondary_cleaner.state.floatbank5_b_level    0.210371\n",
      "secondary_cleaner.state.floatbank6_a_air      0.019886\n",
      "secondary_cleaner.state.floatbank6_a_level    1.463652\n",
      "Length: 86, dtype: float64\n"
     ]
    }
   ],
   "source": [
    "for _ in range(3):\n",
    "    rd = np.random.randint(0,22000)\n",
    "    print(data_full.loc[rd:rd+5, :].drop([\"date\"], axis=1).std())"
   ]
  },
  {
   "cell_type": "markdown",
   "metadata": {},
   "source": [
    "Al tener una desviación estandar normalmente no tan alejada en las columnas, sustituiremos los valores vacíos con los valores de el dato anterior más proximo en fecha"
   ]
  },
  {
   "cell_type": "code",
   "execution_count": 96,
   "metadata": {},
   "outputs": [
    {
     "data": {
      "text/plain": [
       "date                                          0\n",
       "primary_cleaner.input.sulfate                 0\n",
       "primary_cleaner.input.depressant              0\n",
       "primary_cleaner.input.feed_size               0\n",
       "primary_cleaner.input.xanthate                0\n",
       "primary_cleaner.state.floatbank8_a_air        0\n",
       "primary_cleaner.state.floatbank8_a_level      0\n",
       "primary_cleaner.state.floatbank8_b_air        0\n",
       "primary_cleaner.state.floatbank8_b_level      0\n",
       "primary_cleaner.state.floatbank8_c_air        0\n",
       "primary_cleaner.state.floatbank8_c_level      0\n",
       "primary_cleaner.state.floatbank8_d_air        0\n",
       "primary_cleaner.state.floatbank8_d_level      0\n",
       "rougher.input.feed_ag                         0\n",
       "rougher.input.feed_pb                         0\n",
       "rougher.input.feed_rate                       0\n",
       "rougher.input.feed_size                       0\n",
       "rougher.input.feed_sol                        0\n",
       "rougher.input.feed_au                         0\n",
       "rougher.input.floatbank10_sulfate             0\n",
       "rougher.input.floatbank10_xanthate            0\n",
       "rougher.input.floatbank11_sulfate             0\n",
       "rougher.input.floatbank11_xanthate            0\n",
       "rougher.state.floatbank10_a_air               0\n",
       "rougher.state.floatbank10_a_level             0\n",
       "rougher.state.floatbank10_b_air               0\n",
       "rougher.state.floatbank10_b_level             0\n",
       "rougher.state.floatbank10_c_air               0\n",
       "rougher.state.floatbank10_c_level             0\n",
       "rougher.state.floatbank10_d_air               0\n",
       "rougher.state.floatbank10_d_level             0\n",
       "rougher.state.floatbank10_e_air               0\n",
       "rougher.state.floatbank10_e_level             0\n",
       "rougher.state.floatbank10_f_air               0\n",
       "rougher.state.floatbank10_f_level             0\n",
       "secondary_cleaner.state.floatbank2_a_air      0\n",
       "secondary_cleaner.state.floatbank2_a_level    0\n",
       "secondary_cleaner.state.floatbank2_b_air      0\n",
       "secondary_cleaner.state.floatbank2_b_level    0\n",
       "secondary_cleaner.state.floatbank3_a_air      0\n",
       "secondary_cleaner.state.floatbank3_a_level    0\n",
       "secondary_cleaner.state.floatbank3_b_air      0\n",
       "secondary_cleaner.state.floatbank3_b_level    0\n",
       "secondary_cleaner.state.floatbank4_a_air      0\n",
       "secondary_cleaner.state.floatbank4_a_level    0\n",
       "secondary_cleaner.state.floatbank4_b_air      0\n",
       "secondary_cleaner.state.floatbank4_b_level    0\n",
       "secondary_cleaner.state.floatbank5_a_air      0\n",
       "secondary_cleaner.state.floatbank5_a_level    0\n",
       "secondary_cleaner.state.floatbank5_b_air      0\n",
       "secondary_cleaner.state.floatbank5_b_level    0\n",
       "secondary_cleaner.state.floatbank6_a_air      0\n",
       "secondary_cleaner.state.floatbank6_a_level    0\n",
       "dtype: int64"
      ]
     },
     "execution_count": 96,
     "metadata": {},
     "output_type": "execute_result"
    }
   ],
   "source": [
    "data_train.ffill(inplace=True)\n",
    "data_test.ffill(inplace=True)\n",
    "data_train.isnull().sum()\n",
    "data_test.isnull().sum()"
   ]
  },
  {
   "cell_type": "markdown",
   "metadata": {},
   "source": [
    "## 2.1\n",
    "\n",
    "Observa cómo cambia la concentracion de metales en función de cada etapa"
   ]
  },
  {
   "cell_type": "code",
   "execution_count": 98,
   "metadata": {},
   "outputs": [],
   "source": [
    "columnas = pd.Series(data_full.columns)\n",
    "1 rougher.input.feed_au\n",
    "3 rougher.output.concentrate_au\n",
    "5 primary_cleaner.output.concentrate_au\n",
    "8 final.output.concentrate_au\n",
    "\n"
   ]
  },
  {
   "cell_type": "markdown",
   "metadata": {},
   "source": [
    "## 2.1\n",
    "\n"
   ]
  },
  {
   "cell_type": "markdown",
   "metadata": {},
   "source": [
    "## 2.1\n",
    "\n"
   ]
  },
  {
   "cell_type": "markdown",
   "metadata": {},
   "source": [
    "## 2.1\n",
    "\n"
   ]
  },
  {
   "cell_type": "markdown",
   "metadata": {},
   "source": [
    "## 2.1\n",
    "\n"
   ]
  },
  {
   "cell_type": "markdown",
   "metadata": {},
   "source": []
  }
 ],
 "metadata": {
  "kernelspec": {
   "display_name": "Python 3",
   "language": "python",
   "name": "python3"
  },
  "language_info": {
   "codemirror_mode": {
    "name": "ipython",
    "version": 3
   },
   "file_extension": ".py",
   "mimetype": "text/x-python",
   "name": "python",
   "nbconvert_exporter": "python",
   "pygments_lexer": "ipython3",
   "version": "3.12.0"
  }
 },
 "nbformat": 4,
 "nbformat_minor": 2
}
